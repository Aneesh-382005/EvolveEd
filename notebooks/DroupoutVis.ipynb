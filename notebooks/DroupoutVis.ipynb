{
  "cells": [
    {
      "cell_type": "code",
      "execution_count": 10,
      "metadata": {
        "colab": {
          "base_uri": "https://localhost:8080/"
        },
        "id": "R5_WShqkWDtJ",
        "outputId": "29b77514-e75e-4fb7-8693-8c9e6df6b7ce"
      },
      "outputs": [
        {
          "name": "stdout",
          "output_type": "stream",
          "text": [
            "Dataset loaded successfully.\n",
            "Dropped 'Student_ID' column.\n",
            "Dropped 'Final_Exam_Score' to prevent data leakage.\n",
            "\n",
            "Numerical features: ['Age', 'Time_Spent_on_Videos', 'Quiz_Attempts', 'Quiz_Scores', 'Forum_Participation', 'Assignment_Completion_Rate', 'Feedback_Score']\n",
            "Categorical features: ['Gender', 'Education_Level', 'Course_Name', 'Engagement_Level', 'Learning_Style']\n",
            "\n",
            "Data split: 7500 training samples, 2500 testing samples.\n",
            "Dropout rate in training set: 19.57%\n",
            "Dropout rate in testing set: 19.56%\n",
            "\n",
            "--- Training and Evaluating Models ---\n",
            "\n",
            "Training Logistic Regression...\n",
            "Logistic Regression Evaluation:\n",
            "  Accuracy:  0.8044\n",
            "  Precision: 0.0000\n",
            "  Recall:    0.0000\n",
            "  F1-Score:  0.0000\n",
            "  AUC-ROC:   0.5037\n",
            "\n",
            "Training Random Forest...\n"
          ]
        },
        {
          "name": "stderr",
          "output_type": "stream",
          "text": [
            "d:\\EvolveEd\\envi\\Lib\\site-packages\\sklearn\\metrics\\_classification.py:1565: UndefinedMetricWarning: Precision is ill-defined and being set to 0.0 due to no predicted samples. Use `zero_division` parameter to control this behavior.\n",
            "  _warn_prf(average, modifier, f\"{metric.capitalize()} is\", len(result))\n"
          ]
        },
        {
          "name": "stdout",
          "output_type": "stream",
          "text": [
            "Random Forest Evaluation:\n",
            "  Accuracy:  0.8044\n",
            "  Precision: 0.5000\n",
            "  Recall:    0.0020\n",
            "  F1-Score:  0.0041\n",
            "  AUC-ROC:   0.4964\n",
            "\n",
            "Training XGBoost...\n",
            "XGBoost Evaluation:\n",
            "  Accuracy:  0.7836\n",
            "  Precision: 0.2292\n",
            "  Recall:    0.0450\n",
            "  F1-Score:  0.0752\n",
            "  AUC-ROC:   0.5106\n",
            "\n",
            "--- Model Comparison ---\n",
            "                     Accuracy  Precision    Recall  F1-Score   AUC-ROC\n",
            "Logistic Regression    0.8044   0.000000  0.000000  0.000000  0.503686\n",
            "Random Forest          0.8044   0.500000  0.002045  0.004073  0.496373\n",
            "XGBoost                0.7836   0.229167  0.044990  0.075214  0.510602\n",
            "\n",
            "Best Model based on Accuracy:  Logistic Regression (Accuracy: 0.8044)\n",
            "Best Model based on F1-Score:  XGBoost (F1-Score: 0.0752)\n",
            "Best Model based on AUC-ROC:   XGBoost (AUC-ROC: 0.5106)\n",
            "\n",
            "Recommendation:\n",
            "XGBoost appears to be the best overall.\n"
          ]
        },
        {
          "name": "stderr",
          "output_type": "stream",
          "text": [
            "d:\\EvolveEd\\envi\\Lib\\site-packages\\xgboost\\training.py:183: UserWarning: [04:33:57] WARNING: C:\\actions-runner\\_work\\xgboost\\xgboost\\src\\learner.cc:738: \n",
            "Parameters: { \"use_label_encoder\" } are not used.\n",
            "\n",
            "  bst.update(dtrain, iteration=i, fobj=obj)\n"
          ]
        }
      ],
      "source": [
        "import pandas as pd\n",
        "import numpy as np\n",
        "from sklearn.model_selection import train_test_split\n",
        "from sklearn.preprocessing import StandardScaler, OneHotEncoder\n",
        "from sklearn.compose import ColumnTransformer\n",
        "from sklearn.pipeline import Pipeline\n",
        "from sklearn.linear_model import LogisticRegression\n",
        "from sklearn.ensemble import RandomForestClassifier\n",
        "from xgboost import XGBClassifier\n",
        "from sklearn.metrics import accuracy_score, precision_score, recall_score, f1_score, roc_auc_score\n",
        "import warnings\n",
        "\n",
        "try:\n",
        "    df = pd.read_csv('../data/raw/personalized_learning_dataset.csv')\n",
        "    print(\"Dataset loaded successfully.\")\n",
        "except FileNotFoundError:\n",
        "    print(\"Error: personalized_learning_dataset.csv not found.\")\n",
        "    exit()\n",
        "\n",
        "if 'Student_ID' in df.columns:\n",
        "    df = df.drop('Student_ID', axis=1)\n",
        "    print(\"Dropped 'Student_ID' column.\")\n",
        "else:\n",
        "    print(\"'Student_ID' column not found.\")\n",
        "\n",
        "if 'Final_Exam_Score' in df.columns:\n",
        "    df = df.drop('Final_Exam_Score', axis=1)\n",
        "    print(\"Dropped 'Final_Exam_Score' to prevent data leakage.\")\n",
        "else:\n",
        "    print(\"'Final_Exam_Score' column not found.\")\n",
        "\n",
        "df['Dropout_Likelihood'] = df['Dropout_Likelihood'].map({'No': 0, 'Yes': 1})\n",
        "\n",
        "\n",
        "X = df.drop('Dropout_Likelihood', axis=1)\n",
        "y = df['Dropout_Likelihood']\n",
        "\n",
        "catFeatures = X.select_dtypes(include=['object', 'category']).columns.tolist()\n",
        "numFeatures = X.select_dtypes(include=np.number).columns.tolist()\n",
        "\n",
        "print(f\"\\nNumerical features: {numFeatures}\")\n",
        "print(f\"Categorical features: {catFeatures}\")\n",
        "\n",
        "XTrain, XTest, yTrain, yTest = train_test_split(X, y, test_size=0.25, random_state=42, stratify=y)\n",
        "print(f\"\\nData split: {len(XTrain)} training samples, {len(XTest)} testing samples.\")\n",
        "print(f\"Dropout rate in training set: {yTrain.mean():.2%}\")\n",
        "print(f\"Dropout rate in testing set: {yTest.mean():.2%}\")\n",
        "\n",
        "preprocessor = ColumnTransformer(\n",
        "    transformers=[\n",
        "        ('num', StandardScaler(), numFeatures),\n",
        "        ('cat', OneHotEncoder(handle_unknown='ignore', sparse_output=False), catFeatures)\n",
        "    ],\n",
        "    remainder='passthrough'\n",
        ")\n",
        "\n",
        "models = {\n",
        "    \"Logistic Regression\": LogisticRegression(random_state=42, max_iter=1000, solver='liblinear'),\n",
        "    \"Random Forest\": RandomForestClassifier(random_state=42, n_estimators=100),\n",
        "    \"XGBoost\": XGBClassifier(random_state=42, use_label_encoder=False, eval_metric='logloss')\n",
        "}\n",
        "\n",
        "results = {}\n",
        "\n",
        "print(\"\\n--- Training and Evaluating Models ---\")\n",
        "\n",
        "for name, model in models.items():\n",
        "    print(f\"\\nTraining {name}...\")\n",
        "    pipeline = Pipeline(steps=[('preprocessor', preprocessor), ('classifier', model)])\n",
        "    pipeline.fit(XTrain, yTrain)\n",
        "    yPred = pipeline.predict(XTest)\n",
        "    yProba = pipeline.predict_proba(XTest)[:, 1]\n",
        "\n",
        "    acc = accuracy_score(yTest, yPred)\n",
        "    prec = precision_score(yTest, yPred)\n",
        "    rec = recall_score(yTest, yPred)\n",
        "    f1 = f1_score(yTest, yPred)\n",
        "    auc = roc_auc_score(yTest, yProba)\n",
        "\n",
        "    results[name] = {\n",
        "        'Accuracy': acc,\n",
        "        'Precision': prec,\n",
        "        'Recall': rec,\n",
        "        'F1-Score': f1,\n",
        "        'AUC-ROC': auc\n",
        "    }\n",
        "\n",
        "    print(f\"{name} Evaluation:\")\n",
        "    print(f\"  Accuracy:  {acc:.4f}\")\n",
        "    print(f\"  Precision: {prec:.4f}\")\n",
        "    print(f\"  Recall:    {rec:.4f}\")\n",
        "    print(f\"  F1-Score:  {f1:.4f}\")\n",
        "    print(f\"  AUC-ROC:   {auc:.4f}\")\n",
        "\n",
        "print(\"\\n--- Model Comparison ---\")\n",
        "resultsDf = pd.DataFrame(results).T\n",
        "print(resultsDf)\n",
        "\n",
        "bestAccModel = resultsDf['Accuracy'].idxmax()\n",
        "bestF1Model = resultsDf['F1-Score'].idxmax()\n",
        "bestAucModel = resultsDf['AUC-ROC'].idxmax()\n",
        "\n",
        "print(f\"\\nBest Model based on Accuracy:  {bestAccModel} (Accuracy: {resultsDf.loc[bestAccModel, 'Accuracy']:.4f})\")\n",
        "print(f\"Best Model based on F1-Score:  {bestF1Model} (F1-Score: {resultsDf.loc[bestF1Model, 'F1-Score']:.4f})\")\n",
        "print(f\"Best Model based on AUC-ROC:   {bestAucModel} (AUC-ROC: {resultsDf.loc[bestAucModel, 'AUC-ROC']:.4f})\")\n",
        "\n",
        "print(\"\\nRecommendation:\")\n",
        "if bestF1Model == bestAucModel:\n",
        "    print(f\"{bestF1Model} appears to be the best overall.\")\n",
        "elif bestAccModel in [bestF1Model, bestAucModel]:\n",
        "    print(f\"{bestAccModel} performed best on accuracy, but consider {bestF1Model} or {bestAucModel} for balanced performance.\")\n",
        "else:\n",
        "    print(f\"{bestAccModel} leads in accuracy, {bestF1Model} in F1, and {bestAucModel} in AUC. Prefer {bestF1Model} or {bestAucModel} for balanced results.\")\n"
      ]
    },
    {
      "cell_type": "code",
      "execution_count": 6,
      "metadata": {
        "colab": {
          "base_uri": "https://localhost:8080/",
          "height": 472
        },
        "id": "4gdQYqmUWJrx",
        "outputId": "ddd57582-d1ee-4f57-a438-539a0a6cde84"
      },
      "outputs": [
        {
          "name": "stdout",
          "output_type": "stream",
          "text": [
            "Note: you may need to restart the kernel to use updated packages.\n"
          ]
        },
        {
          "data": {
            "image/png": "[encoded data removed]",
            "text/plain": [
              "<Figure size 640x480 with 2 Axes>"
            ]
          },
          "metadata": {},
          "output_type": "display_data"
        }
      ],
      "source": [
        "%pip install matplotlib --quiet\n",
        "\n",
        "from sklearn.metrics import confusion_matrix, ConfusionMatrixDisplay\n",
        "import matplotlib.pyplot as plt\n",
        "\n",
        "y_pred = pipeline.predict(XTest)\n",
        "\n",
        "cm = confusion_matrix(yTest, y_pred)\n",
        "disp = ConfusionMatrixDisplay(confusion_matrix=cm, display_labels=pipeline.classes_)\n",
        "disp.plot()\n",
        "plt.title('Confusion Matrix')\n",
        "plt.show()"
      ]
    },
    {
      "cell_type": "code",
      "execution_count": 7,
      "metadata": {
        "colab": {
          "base_uri": "https://localhost:8080/"
        },
        "id": "wXUvPPXVW-j4",
        "outputId": "2e19d2d1-59e5-4f43-a3a7-5385b6ca9c53"
      },
      "outputs": [
        {
          "name": "stdout",
          "output_type": "stream",
          "text": [
            "Dropout_Likelihood\n",
            "0    8043\n",
            "1    1957\n",
            "Name: count, dtype: int64\n"
          ]
        }
      ],
      "source": [
        "import pandas as pd\n",
        "\n",
        "# Assuming 'df' is your DataFrame and 'Dropout_Likelihood' is your target variable column\n",
        "class_counts = df['Dropout_Likelihood'].value_counts()\n",
        "\n",
        "print(class_counts)"
      ]
    },
    {
      "cell_type": "code",
      "execution_count": 8,
      "metadata": {},
      "outputs": [
        {
          "data": {
            "image/png": "[encoded data removed]",
            "text/plain": [
              "<Figure size 1200x600 with 1 Axes>"
            ]
          },
          "metadata": {},
          "output_type": "display_data"
        }
      ],
      "source": [
        "import matplotlib.pyplot as plt\n",
        "import numpy as np\n",
        "\n",
        "metrics = ['Accuracy', 'Precision', 'Recall', 'F1-Score', 'AUC-ROC']\n",
        "model_names = list(resultsDf.index)\n",
        "\n",
        "fig, ax = plt.subplots(figsize=(12, 6))\n",
        "\n",
        "bar_width = 0.15\n",
        "x_positions = np.arange(len(metrics))\n",
        "\n",
        "for i, model in enumerate(model_names):\n",
        "    ax.bar(x_positions + i * bar_width, resultsDf.loc[model, metrics], bar_width, label=model)\n",
        "\n",
        "ax.set_xticks(x_positions + bar_width * (len(model_names) - 1) / 2)\n",
        "ax.set_xticklabels(metrics)\n",
        "ax.set_ylabel('Score')\n",
        "ax.set_title('Model Performance Comparison')\n",
        "ax.legend(title='Models')\n",
        "\n",
        "plt.tight_layout()\n",
        "plt.show()\n"
      ]
    },
    {
      "cell_type": "code",
      "execution_count": 13,
      "metadata": {},
      "outputs": [
        {
          "name": "stdout",
          "output_type": "stream",
          "text": [
            "\n",
            "Saved best model to: ../models/best_model_XGBoost.joblib\n"
          ]
        },
        {
          "name": "stderr",
          "output_type": "stream",
          "text": [
            "d:\\EvolveEd\\envi\\Lib\\site-packages\\xgboost\\training.py:183: UserWarning: [05:08:40] WARNING: C:\\actions-runner\\_work\\xgboost\\xgboost\\src\\learner.cc:738: \n",
            "Parameters: { \"use_label_encoder\" } are not used.\n",
            "\n",
            "  bst.update(dtrain, iteration=i, fobj=obj)\n"
          ]
        }
      ],
      "source": [
        "import joblib\n",
        "\n",
        "custom_path = '../models/'  # Specify your custom path here\n",
        "best_model_name = bestF1Model\n",
        "best_model_pipeline = Pipeline(steps=[\n",
        "    ('preprocessor', preprocessor),\n",
        "    ('classifier', models[best_model_name])\n",
        "])\n",
        "best_model_pipeline.fit(XTrain, yTrain)\n",
        "\n",
        "file_name = f'{custom_path}best_model_{best_model_name.replace(\" \", \"_\")}.joblib'\n",
        "joblib.dump(best_model_pipeline, file_name)\n",
        "print(f\"\\nSaved best model to: {file_name}\")\n"
      ]
    }
  ],
  "metadata": {
    "colab": {
      "provenance": []
    },
    "kernelspec": {
      "display_name": "Python 3",
      "language": "python",
      "name": "python3"
    },
    "language_info": {
      "codemirror_mode": {
        "name": "ipython",
        "version": 3
      },
      "file_extension": ".py",
      "mimetype": "text/x-python",
      "name": "python",
      "nbconvert_exporter": "python",
      "pygments_lexer": "ipython3",
      "version": "3.11.11"
    }
  },
  "nbformat": 4,
  "nbformat_minor": 0
}
